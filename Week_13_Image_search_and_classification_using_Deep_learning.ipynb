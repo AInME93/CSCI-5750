{
  "nbformat": 4,
  "nbformat_minor": 0,
  "metadata": {
    "colab": {
      "name": "Week 13: Image search and classification using Deep learning.ipynb",
      "provenance": [],
      "collapsed_sections": []
    },
    "kernelspec": {
      "name": "python3",
      "display_name": "Python 3"
    },
    "language_info": {
      "name": "python"
    },
    "accelerator": "GPU"
  },
  "cells": [
    {
      "cell_type": "markdown",
      "source": [
        "# Week 13: Image search and classification using Deep learning\n",
        "\n",
        "According to the experiment in paper ImageNet Classification with Deep Convolutional Neural Networks  (Links to an external site.), we can design a convolutional neural network to classify an image into a specific class.\n",
        "\n",
        "More importantly, given any input image, the corresponding feature vector learned from the last hidden layer of the CNN can be used to find similar images in the training data set by calculating the Euclidean distance between any two feature vectors. In the last section, we will develop an image searching engine\n",
        "\n",
        "Therefore, the feature vectors derived from the deep learning network can also be used for image searching.\n",
        "\n",
        "We will extend our algorithms to develop an image search web server."
      ],
      "metadata": {
        "id": "XDKm44VnVweO"
      }
    },
    {
      "cell_type": "markdown",
      "source": [
        "## Part 1.  Design a convolutional neural network for image classification\n"
      ],
      "metadata": {
        "id": "Oe7sGYokWQO_"
      }
    },
    {
      "cell_type": "markdown",
      "source": [
        "### Step 1: Data Loading\n",
        "First of all, we can work on the popular dataset called 'CIFAR10', containing 32x32 color images of 10 categories of objects. Below are labels for the objects - airplane, automobile, bird, cat, deer, dog, frog, horse, ship, and truck.\n",
        "\n",
        "We can directly load the dataset into memory from module 'keras.datasets,' which contains:\n",
        "\n",
        "Training Set: 50000 images, dimension shape: 50000 * 32 * 32 *3\n",
        "\n",
        "Test Set: 10000 images, dimension shape: 10000 * 32 * 32 *3"
      ],
      "metadata": {
        "id": "uwkwLVU0WU1D"
      }
    },
    {
      "cell_type": "code",
      "source": [
        "from keras.datasets import cifar10\n",
        "import matplotlib.pyplot as plt\n",
        "import numpy as np\n",
        "\n",
        "(X_train, y_train), (X_test, y_test) = cifar10.load_data()\n",
        "y_train, y_test = y_train.reshape(-1, 1), y_test.reshape(-1, 1)\n",
        "\n",
        "labels_map = ['airplane', 'automobile', 'bird', 'cat', 'deer', 'dog', 'frog', 'horse', 'ship', 'truck']"
      ],
      "metadata": {
        "colab": {
          "base_uri": "https://localhost:8080/"
        },
        "id": "YAnxxa96WazR",
        "outputId": "e0158b7d-1ae6-4eeb-bf37-600c980364de"
      },
      "execution_count": 1,
      "outputs": [
        {
          "output_type": "stream",
          "name": "stdout",
          "text": [
            "Downloading data from https://www.cs.toronto.edu/~kriz/cifar-10-python.tar.gz\n",
            "170500096/170498071 [==============================] - 4s 0us/step\n",
            "170508288/170498071 [==============================] - 4s 0us/step\n"
          ]
        }
      ]
    },
    {
      "cell_type": "code",
      "source": [
        "print(\"X_train.shape: \", X_train.shape,\"\\n\",\"y_train.shape:\", y_train.shape, \"\\n\",\"X_test.shape:\", X_test.shape, \"\\n\",\"y_test.shape:\", y_test.shape)"
      ],
      "metadata": {
        "colab": {
          "base_uri": "https://localhost:8080/"
        },
        "id": "oJXchLcFV_7O",
        "outputId": "8b723c5e-e8a1-4c19-dda1-d531400ea03d"
      },
      "execution_count": null,
      "outputs": [
        {
          "output_type": "stream",
          "name": "stdout",
          "text": [
            "X_train.shape:  (50000, 32, 32, 3) \n",
            " y_train.shape: (50000, 1) \n",
            " X_test.shape: (10000, 32, 32, 3) \n",
            " y_test.shape: (10000, 1)\n"
          ]
        }
      ]
    },
    {
      "cell_type": "markdown",
      "source": [
        "### Step 2: Data Visualization"
      ],
      "metadata": {
        "id": "ic9VGK6xXdmh"
      }
    },
    {
      "cell_type": "code",
      "source": [
        "fig = plt.figure(figsize=(20, 5))\n",
        "\n",
        "for ii in range(10):\n",
        "   jj = np.random.choice(range(len(X_train))) # randomly choose one image\n",
        "   label = [labels_map[j] for j in y_train[jj]][-1]  # get its label\n",
        "   imgplot = fig.add_subplot(2,5,ii+1)  ## set up grid of 2 rows and 5 columns for visualization\n",
        "   imgplot.imshow(X_train[jj]) # visualize the image\n",
        "   imgplot.set_title(label, fontsize=20) # set the title\n",
        "   imgplot.axis('off')"
      ],
      "metadata": {
        "colab": {
          "base_uri": "https://localhost:8080/",
          "height": 244
        },
        "id": "SrJ9tUtVXOiA",
        "outputId": "1f3a89d2-f060-4514-ca9f-a01a32228b9f"
      },
      "execution_count": 2,
      "outputs": [
        {
          "output_type": "display_data",
          "data": {
            "text/plain": [
              "<Figure size 1440x360 with 10 Axes>"
            ],
            "image/png": "[encoded data removed]"
          },
          "metadata": {
            "needs_background": "light"
          }
        }
      ]
    },
    {
      "cell_type": "markdown",
      "source": [
        "### Step 3: Define model: Train the CNN network (use GPU on Google Colab)"
      ],
      "metadata": {
        "id": "liwlTODFXjaw"
      }
    },
    {
      "cell_type": "code",
      "source": [
        "from keras.models import Sequential\n",
        "from keras.layers import Dense\n",
        "from sklearn.model_selection import train_test_split\n",
        "from keras.layers import Conv2D,MaxPooling2D\n",
        "from keras import regularizers\n",
        "from keras.layers import Flatten,BatchNormalization,Dropout\n",
        "\n",
        "\n",
        "model = Sequential() # create Sequential model"
      ],
      "metadata": {
        "id": "Q0N2FSa_XmW0"
      },
      "execution_count": 3,
      "outputs": []
    },
    {
      "cell_type": "markdown",
      "source": [
        "### Step 4:  Feature scaling before feeding into the CNN"
      ],
      "metadata": {
        "id": "XmucEqYuYAHA"
      }
    },
    {
      "cell_type": "code",
      "source": [
        "num_classes = len(labels_map)\n",
        "from keras.utils.np_utils import to_categorical\n",
        "\n",
        "## Step 4.1: convert to one-hot encoding for classification\n",
        "y_train_categorical = to_categorical(y_train, num_classes)\n",
        "y_test_categorical = to_categorical(y_test, num_classes) \n",
        "\n",
        "## Step 4.2: Feature Min-Max normalization\n",
        "X_train_s = X_train.astype('float32')/255\n",
        "X_test_s = X_test.astype('float32')/255\n"
      ],
      "metadata": {
        "id": "p8MY7o5xYCQU"
      },
      "execution_count": 4,
      "outputs": []
    },
    {
      "cell_type": "code",
      "source": [
        "print(\"X_train shape\", X_train.shape)\n",
        "print(\"X_test shape\", X_test.shape)\n",
        "print(\"X_train_s shape\", X_train_s.shape)\n",
        "print(\"X_test_s shape\", X_test_s.shape)\n",
        "print(\"y_train shape\", y_train.shape)\n",
        "print(\"y_test shape\", y_test.shape)\n",
        "print(\"y_train_categorical shape\", y_train_categorical.shape)\n",
        "print(\"y_test_categorical shape\", y_test_categorical.shape)\n"
      ],
      "metadata": {
        "colab": {
          "base_uri": "https://localhost:8080/"
        },
        "id": "T33tinlXYqB5",
        "outputId": "447613b3-d4f6-4a13-c807-32607b9f38c1"
      },
      "execution_count": 5,
      "outputs": [
        {
          "output_type": "stream",
          "name": "stdout",
          "text": [
            "X_train shape (50000, 32, 32, 3)\n",
            "X_test shape (10000, 32, 32, 3)\n",
            "X_train_s shape (50000, 32, 32, 3)\n",
            "X_test_s shape (10000, 32, 32, 3)\n",
            "y_train shape (50000, 1)\n",
            "y_test shape (10000, 1)\n",
            "y_train_categorical shape (50000, 10)\n",
            "y_test_categorical shape (10000, 10)\n"
          ]
        }
      ]
    },
    {
      "cell_type": "code",
      "source": [
        "from matplotlib import pyplot as plt \n",
        "plt.hist(X_train[0].flatten(),) \n",
        "plt.title(\"Distribution of Pixel values in X_train example\") \n",
        "plt.show()"
      ],
      "metadata": {
        "colab": {
          "base_uri": "https://localhost:8080/",
          "height": 281
        },
        "id": "LcwAxe32ZjEb",
        "outputId": "323ebc61-21c6-4f99-feee-b0269616779d"
      },
      "execution_count": 6,
      "outputs": [
        {
          "output_type": "display_data",
          "data": {
            "text/plain": [
              "<Figure size 432x288 with 1 Axes>"
            ],
            "image/png": "[encoded data removed]"
          },
          "metadata": {
            "needs_background": "light"
          }
        }
      ]
    },
    {
      "cell_type": "code",
      "source": [
        "plt.hist(X_train_s[0].flatten(),) \n",
        "plt.title(\"Distribution of Pixel values in X_train_s example\") \n",
        "plt.show()"
      ],
      "metadata": {
        "colab": {
          "base_uri": "https://localhost:8080/",
          "height": 281
        },
        "id": "E_r017TwZ7FT",
        "outputId": "0df1bbcb-66ab-483f-f4c1-cb451d9e0f20"
      },
      "execution_count": 7,
      "outputs": [
        {
          "output_type": "display_data",
          "data": {
            "text/plain": [
              "<Figure size 432x288 with 1 Axes>"
            ],
            "image/png": "[encoded data removed]"
          },
          "metadata": {
            "needs_background": "light"
          }
        }
      ]
    },
    {
      "cell_type": "markdown",
      "source": [
        "### Step 5: Define the CNN architecture"
      ],
      "metadata": {
        "id": "04uO22wiaFNz"
      }
    },
    {
      "cell_type": "code",
      "source": [
        "### Step 5.1: Load the Keras class\n",
        "from keras.models import Sequential\n",
        "from keras.layers import Dense\n",
        "from sklearn.model_selection import train_test_split\n",
        "from keras.layers import Conv2D,MaxPooling2D\n",
        "from keras import regularizers\n",
        "from keras.layers import Flatten,BatchNormalization,Dropout,Activation\n",
        "from keras.callbacks import EarlyStopping, ModelCheckpoint\n",
        "\n",
        "### Step 5.2: Define early stop\n",
        "keras_callbacks = [\n",
        " EarlyStopping(monitor='val_loss', patience=5, mode='min', min_delta=0.0001),\n",
        " ModelCheckpoint('./checkmodel.h5', monitor='val_loss', save_best_only=True, mode='min')\n",
        "]\n",
        "\n",
        "\n",
        "### Step 5.3: Define the CNN architecture\n",
        "\n",
        "model = Sequential()\n",
        "\n",
        "### Step 5.3.1: define First convolution block\n",
        "model.add(Conv2D(81, (3, 3), padding='same', input_shape=(32,32,3)))\n",
        "model.add(Activation('relu'))\n",
        "\n",
        "### Step 5.3.2: define Second convolution block\n",
        "model.add(Conv2D(81, (3, 3)))\n",
        "model.add(Activation('relu'))\n",
        "model.add(MaxPooling2D(pool_size=(2, 2)))\n",
        "model.add(Dropout(0.25))\n",
        "\n",
        "### Step 5.3.3: define Third convolution block\n",
        "model.add(Conv2D(96, (3, 3), padding='same'))\n",
        "model.add(Activation('relu'))\n",
        "\n",
        "\n",
        "### Step 5.3.4: define Fourth convolution block\n",
        "model.add(Conv2D(96, (3, 3)))\n",
        "model.add(Activation('relu'))\n",
        "model.add(MaxPooling2D(pool_size=(2, 2)))\n",
        "model.add(Dropout(0.25))\n",
        "\n",
        "### Step 5.3.5: define flatten layer, this will convert 2D dimension matrix into 1D array for each image\n",
        "model.add(Flatten())\n",
        "\n",
        "### Step 5.3.6: define fully-connected layer\n",
        "model.add(Dense(512))\n",
        "model.add(Activation('relu'))\n",
        "model.add(Dropout(0.5))\n",
        "\n",
        "### Step 5.3.7:Your task, set appropriate number of hiddhen neurons. This may affect your dimension of feature vectors for image searching\n",
        "model.add(Dense(81))\n",
        "model.add(Activation('relu'))\n",
        "\n",
        "### Step 5.3.8: Define the last classification layer with softmax function\n",
        "model.add(Dense(num_classes, activation='softmax'))\n",
        "\n",
        "model.summary()\n",
        "### Step 5.3.9: compile the model \n",
        "model.compile(loss = \"categorical_crossentropy\", optimizer = \"adam\", metrics = ['accuracy'])"
      ],
      "metadata": {
        "colab": {
          "base_uri": "https://localhost:8080/"
        },
        "id": "pJQm7_2AZzXX",
        "outputId": "916a1705-b8df-4fe9-b8e2-be381e3ae5f9"
      },
      "execution_count": 8,
      "outputs": [
        {
          "output_type": "stream",
          "name": "stdout",
          "text": [
            "Model: \"sequential_1\"\n",
            "_________________________________________________________________\n",
            " Layer (type)                Output Shape              Param #   \n",
            "=================================================================\n",
            " conv2d (Conv2D)             (None, 32, 32, 81)        2268      \n",
            "                                                                 \n",
            " activation (Activation)     (None, 32, 32, 81)        0         \n",
            "                                                                 \n",
            " conv2d_1 (Conv2D)           (None, 30, 30, 81)        59130     \n",
            "                                                                 \n",
            " activation_1 (Activation)   (None, 30, 30, 81)        0         \n",
            "                                                                 \n",
            " max_pooling2d (MaxPooling2D  (None, 15, 15, 81)       0         \n",
            " )                                                               \n",
            "                                                                 \n",
            " dropout (Dropout)           (None, 15, 15, 81)        0         \n",
            "                                                                 \n",
            " conv2d_2 (Conv2D)           (None, 15, 15, 96)        70080     \n",
            "                                                                 \n",
            " activation_2 (Activation)   (None, 15, 15, 96)        0         \n",
            "                                                                 \n",
            " conv2d_3 (Conv2D)           (None, 13, 13, 96)        83040     \n",
            "                                                                 \n",
            " activation_3 (Activation)   (None, 13, 13, 96)        0         \n",
            "                                                                 \n",
            " max_pooling2d_1 (MaxPooling  (None, 6, 6, 96)         0         \n",
            " 2D)                                                             \n",
            "                                                                 \n",
            " dropout_1 (Dropout)         (None, 6, 6, 96)          0         \n",
            "                                                                 \n",
            " flatten (Flatten)           (None, 3456)              0         \n",
            "                                                                 \n",
            " dense (Dense)               (None, 512)               1769984   \n",
            "                                                                 \n",
            " activation_4 (Activation)   (None, 512)               0         \n",
            "                                                                 \n",
            " dropout_2 (Dropout)         (None, 512)               0         \n",
            "                                                                 \n",
            " dense_1 (Dense)             (None, 81)                41553     \n",
            "                                                                 \n",
            " activation_5 (Activation)   (None, 81)                0         \n",
            "                                                                 \n",
            " dense_2 (Dense)             (None, 10)                820       \n",
            "                                                                 \n",
            "=================================================================\n",
            "Total params: 2,026,875\n",
            "Trainable params: 2,026,875\n",
            "Non-trainable params: 0\n",
            "_________________________________________________________________\n"
          ]
        }
      ]
    },
    {
      "cell_type": "markdown",
      "source": [
        "### Step 6: Start training the CNN model"
      ],
      "metadata": {
        "id": "tVOgF_0EbMec"
      }
    },
    {
      "cell_type": "code",
      "source": [
        "history_log = model.fit(X_train_s, y_train_categorical, validation_split=0.1, batch_size=64, epochs = 30, callbacks=keras_callbacks)"
      ],
      "metadata": {
        "colab": {
          "base_uri": "https://localhost:8080/"
        },
        "id": "JEBhSwyebO_z",
        "outputId": "b99d2cd2-0339-4478-9347-56cfce4111e4"
      },
      "execution_count": 24,
      "outputs": [
        {
          "output_type": "stream",
          "name": "stdout",
          "text": [
            "Epoch 1/30\n",
            "704/704 [==============================] - 26s 33ms/step - loss: 1.6053 - accuracy: 0.4079 - val_loss: 1.2516 - val_accuracy: 0.5442\n",
            "Epoch 2/30\n",
            "704/704 [==============================] - 23s 32ms/step - loss: 1.1627 - accuracy: 0.5868 - val_loss: 0.9478 - val_accuracy: 0.6604\n",
            "Epoch 3/30\n",
            "704/704 [==============================] - 23s 33ms/step - loss: 0.9730 - accuracy: 0.6537 - val_loss: 0.8696 - val_accuracy: 0.6982\n",
            "Epoch 4/30\n",
            "704/704 [==============================] - 22s 31ms/step - loss: 0.8534 - accuracy: 0.6997 - val_loss: 0.7966 - val_accuracy: 0.7220\n",
            "Epoch 5/30\n",
            "704/704 [==============================] - 23s 32ms/step - loss: 0.7736 - accuracy: 0.7286 - val_loss: 0.7286 - val_accuracy: 0.7404\n",
            "Epoch 6/30\n",
            "704/704 [==============================] - 23s 32ms/step - loss: 0.7204 - accuracy: 0.7475 - val_loss: 0.7069 - val_accuracy: 0.7614\n",
            "Epoch 7/30\n",
            "704/704 [==============================] - 22s 32ms/step - loss: 0.6652 - accuracy: 0.7672 - val_loss: 0.6661 - val_accuracy: 0.7714\n",
            "Epoch 8/30\n",
            "704/704 [==============================] - 23s 32ms/step - loss: 0.6191 - accuracy: 0.7815 - val_loss: 0.6683 - val_accuracy: 0.7718\n",
            "Epoch 9/30\n",
            "704/704 [==============================] - 22s 31ms/step - loss: 0.5781 - accuracy: 0.7965 - val_loss: 0.6259 - val_accuracy: 0.7842\n",
            "Epoch 10/30\n",
            "704/704 [==============================] - 23s 32ms/step - loss: 0.5530 - accuracy: 0.8066 - val_loss: 0.6540 - val_accuracy: 0.7846\n",
            "Epoch 11/30\n",
            "704/704 [==============================] - 22s 31ms/step - loss: 0.5215 - accuracy: 0.8187 - val_loss: 0.6527 - val_accuracy: 0.7836\n",
            "Epoch 12/30\n",
            "704/704 [==============================] - 23s 32ms/step - loss: 0.5022 - accuracy: 0.8259 - val_loss: 0.6199 - val_accuracy: 0.8026\n",
            "Epoch 13/30\n",
            "704/704 [==============================] - 22s 32ms/step - loss: 0.4843 - accuracy: 0.8300 - val_loss: 0.5765 - val_accuracy: 0.8072\n",
            "Epoch 14/30\n",
            "704/704 [==============================] - 23s 32ms/step - loss: 0.4583 - accuracy: 0.8383 - val_loss: 0.5972 - val_accuracy: 0.8034\n",
            "Epoch 15/30\n",
            "704/704 [==============================] - 23s 32ms/step - loss: 0.4402 - accuracy: 0.8446 - val_loss: 0.5808 - val_accuracy: 0.8104\n",
            "Epoch 16/30\n",
            "704/704 [==============================] - 23s 32ms/step - loss: 0.4201 - accuracy: 0.8503 - val_loss: 0.5873 - val_accuracy: 0.8108\n",
            "Epoch 17/30\n",
            "704/704 [==============================] - 22s 32ms/step - loss: 0.4070 - accuracy: 0.8578 - val_loss: 0.5896 - val_accuracy: 0.8064\n",
            "Epoch 18/30\n",
            "704/704 [==============================] - 23s 32ms/step - loss: 0.3842 - accuracy: 0.8654 - val_loss: 0.5907 - val_accuracy: 0.8128\n"
          ]
        }
      ]
    },
    {
      "cell_type": "code",
      "source": [
        "from google.colab import drive\n",
        "drive.mount('/content/drive/')\n",
        "\n",
        "from tensorflow.python.keras.models import save_model,load_model\n",
        "# import shutil\n"
      ],
      "metadata": {
        "colab": {
          "base_uri": "https://localhost:8080/"
        },
        "id": "sFsUr6Mohf1i",
        "outputId": "5f4a8a13-f8da-4318-bb71-ad28b6aff2fa"
      },
      "execution_count": 9,
      "outputs": [
        {
          "output_type": "stream",
          "name": "stdout",
          "text": [
            "Mounted at /content/drive/\n"
          ]
        }
      ]
    },
    {
      "cell_type": "code",
      "source": [
        "\n",
        "path=\"/content/drive/MyDrive/Models/wk_13_cnn.h5\"\n",
        "save_model(model,path)"
      ],
      "metadata": {
        "id": "dDSpQbwVqQXM"
      },
      "execution_count": null,
      "outputs": []
    },
    {
      "cell_type": "code",
      "source": [
        "path=\"/content/drive/MyDrive/Models/wk_13_cnn.h5\"\n",
        "trained_model = load_model(path)"
      ],
      "metadata": {
        "id": "CZgLQ_H8qX_B"
      },
      "execution_count": 12,
      "outputs": []
    },
    {
      "cell_type": "code",
      "source": [
        "# Step 11.2:  Plot the learning curves for training/validation\n",
        "plt.figure(figsize=(12,4))\n",
        "plt.subplot(1,2,1)\n",
        "# Plot training & validation loss values\n",
        "plt.plot(history_log.history['loss'], label='Train')\n",
        "plt.plot(history_log.history['val_loss'], label='Validation')\n",
        "plt.title('Training & Validation Loss', fontsize=15)\n",
        "plt.ylabel('Loss', fontsize=15)\n",
        "plt.xlabel('Epoch', fontsize=15)\n",
        "plt.xticks( fontsize=12)\n",
        "plt.yticks( fontsize=12)\n",
        "plt.legend(loc='upper right', fontsize=12)\n",
        "plt.subplot(1,2,2)\n",
        "# Plot training & validation accuracy values\n",
        "plt.plot(history_log.history['accuracy'], label='Train')\n",
        "plt.plot(history_log.history['val_accuracy'], label='Validation')\n",
        "plt.title('Training & Validation accuracy', fontsize=15)\n",
        "plt.ylabel('accuracy', fontsize=15)\n",
        "\n",
        "plt.xlabel('Epoch', fontsize=15)\n",
        "plt.xticks( fontsize=12)\n",
        "plt.yticks( fontsize=12)\n",
        "plt.legend(loc='lower right', fontsize=12)\n",
        "plt.tight_layout()\n",
        "plt.show()"
      ],
      "metadata": {
        "id": "duT4bWsdbc8m",
        "colab": {
          "base_uri": "https://localhost:8080/",
          "height": 274
        },
        "outputId": "5ff286d4-9b90-4473-b7b5-d7ddc663c690"
      },
      "execution_count": 49,
      "outputs": [
        {
          "output_type": "display_data",
          "data": {
            "text/plain": [
              "<Figure size 864x288 with 2 Axes>"
            ],
            "image/png": "[encoded data removed]"
          },
          "metadata": {
            "needs_background": "light"
          }
        }
      ]
    },
    {
      "cell_type": "markdown",
      "source": [
        "### Step 7: Evaluate the CNN model"
      ],
      "metadata": {
        "id": "L0XM4mEFb5lD"
      }
    },
    {
      "cell_type": "code",
      "source": [
        "score_train = trained_model.evaluate(X_train_s, y_train_categorical, verbose=0)"
      ],
      "metadata": {
        "colab": {
          "base_uri": "https://localhost:8080/"
        },
        "id": "rELqXIcbqs1E",
        "outputId": "b75de77f-e00f-4afe-be56-f3616efaeea8"
      },
      "execution_count": 11,
      "outputs": [
        {
          "output_type": "execute_result",
          "data": {
            "text/plain": [
              "[0.19970202445983887, 0.9416800141334534]"
            ]
          },
          "metadata": {},
          "execution_count": 11
        }
      ]
    },
    {
      "cell_type": "code",
      "source": [
        "# Task: write codes to evaluate the classification accuracy in training set and testing set. Copy/paste your codes here, and report the accuracy results.\n",
        "\n",
        "# score_train = model.evaluate(X_train_s, y_train_categorical, verbose=0)\n",
        "score_train = trained_model.evaluate(X_train_s, y_train_categorical, verbose=0)\n",
        "\n",
        "# score = model.evaluate(X_test_s, y_test_categorical, verbose=0)\n",
        "score = trained_model.evaluate(X_test_s, y_test_categorical, verbose=0)\n",
        "\n",
        "print('Train score:', score_train[0])\n",
        "print('Train accuracy:', score_train[1])\n",
        "\n",
        "print('Test score:', score[0])\n",
        "print('Test accuracy:', score[1])"
      ],
      "metadata": {
        "colab": {
          "base_uri": "https://localhost:8080/"
        },
        "id": "17GLX9y4b47a",
        "outputId": "3ee1ec87-1b5f-4a65-b0ba-f1ecc0db1b8b"
      },
      "execution_count": 13,
      "outputs": [
        {
          "output_type": "stream",
          "name": "stdout",
          "text": [
            "Train score: 0.19970202445983887\n",
            "Train accuracy: 0.9416800141334534\n",
            "Test score: 0.6469122171401978\n",
            "Test accuracy: 0.7954000234603882\n"
          ]
        }
      ]
    },
    {
      "cell_type": "code",
      "source": [
        "trained_model.summary()\n",
        "# model.summary()"
      ],
      "metadata": {
        "colab": {
          "base_uri": "https://localhost:8080/"
        },
        "id": "zYaB5q5Td-D6",
        "outputId": "91504686-37e9-4170-f978-c2d80a960836"
      },
      "execution_count": 15,
      "outputs": [
        {
          "output_type": "stream",
          "name": "stdout",
          "text": [
            "Model: \"sequential\"\n",
            "_________________________________________________________________\n",
            "Layer (type)                 Output Shape              Param #   \n",
            "=================================================================\n",
            "conv2d (Conv2D)              (None, 32, 32, 81)        2268      \n",
            "_________________________________________________________________\n",
            "activation (Activation)      (None, 32, 32, 81)        0         \n",
            "_________________________________________________________________\n",
            "conv2d_1 (Conv2D)            (None, 30, 30, 81)        59130     \n",
            "_________________________________________________________________\n",
            "activation_1 (Activation)    (None, 30, 30, 81)        0         \n",
            "_________________________________________________________________\n",
            "max_pooling2d (MaxPooling2D) (None, 15, 15, 81)        0         \n",
            "_________________________________________________________________\n",
            "dropout (Dropout)            (None, 15, 15, 81)        0         \n",
            "_________________________________________________________________\n",
            "conv2d_2 (Conv2D)            (None, 15, 15, 96)        70080     \n",
            "_________________________________________________________________\n",
            "activation_2 (Activation)    (None, 15, 15, 96)        0         \n",
            "_________________________________________________________________\n",
            "conv2d_3 (Conv2D)            (None, 13, 13, 96)        83040     \n",
            "_________________________________________________________________\n",
            "activation_3 (Activation)    (None, 13, 13, 96)        0         \n",
            "_________________________________________________________________\n",
            "max_pooling2d_1 (MaxPooling2 (None, 6, 6, 96)          0         \n",
            "_________________________________________________________________\n",
            "dropout_1 (Dropout)          (None, 6, 6, 96)          0         \n",
            "_________________________________________________________________\n",
            "flatten (Flatten)            (None, 3456)              0         \n",
            "_________________________________________________________________\n",
            "dense (Dense)                (None, 512)               1769984   \n",
            "_________________________________________________________________\n",
            "activation_4 (Activation)    (None, 512)               0         \n",
            "_________________________________________________________________\n",
            "dropout_2 (Dropout)          (None, 512)               0         \n",
            "_________________________________________________________________\n",
            "dense_1 (Dense)              (None, 81)                41553     \n",
            "_________________________________________________________________\n",
            "activation_5 (Activation)    (None, 81)                0         \n",
            "_________________________________________________________________\n",
            "dense_2 (Dense)              (None, 10)                820       \n",
            "=================================================================\n",
            "Total params: 2,026,875\n",
            "Trainable params: 2,026,875\n",
            "Non-trainable params: 0\n",
            "_________________________________________________________________\n"
          ]
        }
      ]
    },
    {
      "cell_type": "code",
      "source": [
        "### Step 8.1: get all layers of the model and save into a list \n",
        "model_layers = model.layers\n",
        "print(model_layers)"
      ],
      "metadata": {
        "colab": {
          "base_uri": "https://localhost:8080/"
        },
        "id": "eDkHUqORdYzD",
        "outputId": "6e600a3e-1ef3-426d-cf79-025b6fe19345"
      },
      "execution_count": 25,
      "outputs": [
        {
          "output_type": "stream",
          "name": "stdout",
          "text": [
            "[<keras.layers.convolutional.Conv2D object at 0x7f7c1f62fe50>, <keras.layers.core.activation.Activation object at 0x7f7c10172e10>, <keras.layers.convolutional.Conv2D object at 0x7f7c100c5510>, <keras.layers.core.activation.Activation object at 0x7f7c100c59d0>, <keras.layers.pooling.MaxPooling2D object at 0x7f7c10081590>, <keras.layers.core.dropout.Dropout object at 0x7f7c10172e90>, <keras.layers.convolutional.Conv2D object at 0x7f7c101d7cd0>, <keras.layers.core.activation.Activation object at 0x7f7c1e7ff690>, <keras.layers.convolutional.Conv2D object at 0x7f7c10085890>, <keras.layers.core.activation.Activation object at 0x7f7c1ea2db10>, <keras.layers.pooling.MaxPooling2D object at 0x7f7c10033550>, <keras.layers.core.dropout.Dropout object at 0x7f7c1008d9d0>, <keras.layers.core.flatten.Flatten object at 0x7f7c10023fd0>, <keras.layers.core.dense.Dense object at 0x7f7c1003dfd0>, <keras.layers.core.activation.Activation object at 0x7f7c100333d0>, <keras.layers.core.dropout.Dropout object at 0x7f7c10033e90>, <keras.layers.core.dense.Dense object at 0x7f7c10044fd0>, <keras.layers.core.activation.Activation object at 0x7f7c10038210>, <keras.layers.core.dense.Dense object at 0x7f7c1004dc90>]\n"
          ]
        }
      ]
    },
    {
      "cell_type": "code",
      "source": [
        "###Step 8.2: Let's select last second layer as the output for feature extractor \n",
        "# model.layers[-2].output corresponds to the output of last second layer \n",
        "print(trained_model.layers[-2].output)\n",
        "\n",
        "\n",
        "###Step 8.3: Let's select the first layer as the input of feature extractor \n",
        "# model.layers[0].input corresponds to the input of the first layer \n",
        "print(trained_model.layers[0].input)"
      ],
      "metadata": {
        "colab": {
          "base_uri": "https://localhost:8080/"
        },
        "id": "ualP1aeZfS4o",
        "outputId": "3a7f1d59-70ff-4f5b-e9de-a4e2a145715d"
      },
      "execution_count": 27,
      "outputs": [
        {
          "output_type": "stream",
          "name": "stdout",
          "text": [
            "KerasTensor(type_spec=TensorSpec(shape=(None, 81), dtype=tf.float32, name=None), name='activation_5/Relu:0', description=\"created by layer 'activation_5'\")\n",
            "KerasTensor(type_spec=TensorSpec(shape=(None, 32, 32, 3), dtype=tf.float32, name='conv2d_input'), name='conv2d_input', description=\"created by layer 'conv2d_input'\")\n"
          ]
        }
      ]
    },
    {
      "cell_type": "code",
      "source": [
        "###Step 8.3: Then we can build a feature extractor function to map the input to feature vectors\n",
        "from keras import backend as K\n",
        "Get_Hidden_Layered_Output = K.function([model.layers[0].input], [model.layers[-2].output])"
      ],
      "metadata": {
        "id": "PIsHV0gVfW-M"
      },
      "execution_count": 28,
      "outputs": []
    },
    {
      "cell_type": "code",
      "source": [
        "### Step 8.4: Let's apply the feature extractor on one image, and check the feature vector\n",
        "image_sample = X_train_s[0].reshape(1,32,32,3)\n",
        "image_sample_outfeatures = Get_Hidden_Layered_Output(image_sample)[0]\n",
        "\n",
        "print(\"extracted_features:\", image_sample_outfeatures)\n",
        "print(\"shape of original features:\", image_sample.shape)\n",
        "print(\"shape of extracted features:\", image_sample_outfeatures.shape)"
      ],
      "metadata": {
        "colab": {
          "base_uri": "https://localhost:8080/"
        },
        "id": "-pyUZuETfZgF",
        "outputId": "cc2c1b04-92b7-4e34-bc59-ee17254f066c"
      },
      "execution_count": 29,
      "outputs": [
        {
          "output_type": "stream",
          "name": "stdout",
          "text": [
            "extracted_features: [[0.0000000e+00 0.0000000e+00 0.0000000e+00 0.0000000e+00 0.0000000e+00\n",
            "  2.9602382e+00 0.0000000e+00 0.0000000e+00 0.0000000e+00 0.0000000e+00\n",
            "  0.0000000e+00 7.2105856e+00 0.0000000e+00 0.0000000e+00 9.4261169e-03\n",
            "  0.0000000e+00 0.0000000e+00 0.0000000e+00 0.0000000e+00 2.7392750e+00\n",
            "  1.7211491e+00 0.0000000e+00 3.0538023e+00 0.0000000e+00 0.0000000e+00\n",
            "  0.0000000e+00 1.0255985e+01 0.0000000e+00 0.0000000e+00 0.0000000e+00\n",
            "  2.7334785e+00 0.0000000e+00 5.3898776e-01 6.6643209e+00 0.0000000e+00\n",
            "  0.0000000e+00 0.0000000e+00 0.0000000e+00 0.0000000e+00 5.3853327e-01\n",
            "  4.4140711e-01 4.1682673e+00 3.5875862e+00 0.0000000e+00 0.0000000e+00\n",
            "  0.0000000e+00 0.0000000e+00 0.0000000e+00 0.0000000e+00 0.0000000e+00\n",
            "  1.7974688e+00 0.0000000e+00 0.0000000e+00 7.0823336e+00 0.0000000e+00\n",
            "  0.0000000e+00 0.0000000e+00 0.0000000e+00 5.4747486e+00 0.0000000e+00\n",
            "  0.0000000e+00 0.0000000e+00 0.0000000e+00 3.0704975e+00 2.0950408e+00\n",
            "  0.0000000e+00 3.7743789e-01 0.0000000e+00 0.0000000e+00 0.0000000e+00\n",
            "  0.0000000e+00 6.0578780e+00 4.7271609e+00 0.0000000e+00 0.0000000e+00\n",
            "  0.0000000e+00 0.0000000e+00 3.4681816e+00 0.0000000e+00 0.0000000e+00\n",
            "  9.2177296e+00]]\n",
            "shape of original features: (1, 32, 32, 3)\n",
            "shape of extracted features: (1, 81)\n"
          ]
        }
      ]
    },
    {
      "cell_type": "markdown",
      "source": [
        "### Step 9: Apply the feature extractor on all training and test images"
      ],
      "metadata": {
        "id": "zuEB-TLffsAM"
      }
    },
    {
      "cell_type": "code",
      "source": [
        "# Step 9.1: Apply the feature extractor on all training images\n",
        "X_train_featureVector = []\n",
        "batch_size = 500 # set batch size to avoid memory issues\n",
        "for i in range(int(X_train_s.shape[0]/batch_size)):\n",
        "    X_train_featureVector.append(Get_Hidden_Layered_Output([X_train_s[i*batch_size:(i+1)*batch_size,:,:,:]])[0])\n",
        "\n",
        "X_train_featureVector = np.concatenate(X_train_featureVector,axis=0)"
      ],
      "metadata": {
        "id": "ME4FRZNsfqxy"
      },
      "execution_count": 30,
      "outputs": []
    },
    {
      "cell_type": "code",
      "source": [
        "X_train_featureVector.shape"
      ],
      "metadata": {
        "colab": {
          "base_uri": "https://localhost:8080/"
        },
        "id": "KLVn5AJ8gqEu",
        "outputId": "4ca36b6a-15f0-45b9-ac1c-3e2c4929cdc7"
      },
      "execution_count": 31,
      "outputs": [
        {
          "output_type": "execute_result",
          "data": {
            "text/plain": [
              "(50000, 81)"
            ]
          },
          "metadata": {},
          "execution_count": 31
        }
      ]
    },
    {
      "cell_type": "code",
      "source": [
        "X_test_featureVector = []\n",
        "batch_size = 500 # set batch size to avoid memory issues\n",
        "for i in range(int(X_train_s.shape[0]/batch_size)):\n",
        "    X_test_featureVector.append(Get_Hidden_Layered_Output([X_test_s[i*batch_size:(i+1)*batch_size,:,:,:]])[0])\n",
        "\n",
        "X_test_featureVector = np.concatenate(X_test_featureVector,axis=0)\n",
        "\n",
        "X_test_featureVector.shape"
      ],
      "metadata": {
        "colab": {
          "base_uri": "https://localhost:8080/"
        },
        "id": "gBx5sTzegrsF",
        "outputId": "de871f31-4da4-4fef-ed23-951f296b429b"
      },
      "execution_count": 32,
      "outputs": [
        {
          "output_type": "execute_result",
          "data": {
            "text/plain": [
              "(10000, 81)"
            ]
          },
          "metadata": {},
          "execution_count": 32
        }
      ]
    },
    {
      "cell_type": "markdown",
      "source": [
        "### Step 10: Design algorithms to find the similar images using euclidean distance."
      ],
      "metadata": {
        "id": "m7ksLt4PuiSL"
      }
    },
    {
      "cell_type": "code",
      "source": [
        "# 1. Randomly select one image from the test set\n",
        "# 2. Predict the class for the image\n",
        "# 3. Get the hidden feature vector for the image\n",
        "# 4. Calculate the euclidean distance between the hidden feature vector of the image and hidden feature vectors of all images in the training set\n",
        "# 5. Select the top 10 images that have smallest Euclidean distance\n",
        "# 6. Visualization of the searching results\n"
      ],
      "metadata": {
        "id": "MJ77t9QBhOQf"
      },
      "execution_count": 73,
      "outputs": []
    },
    {
      "cell_type": "code",
      "source": [
        "from scipy import spatial,stats\n",
        "\n",
        "def KNN_predict_labels(train_features, train_labels, test_feature, K):\n",
        "  label_record = []\n",
        "  for i in range(len(train_features)):\n",
        "    train_point_feature = train_features[i].astype(int)\n",
        "    test_point_feature = test_feature\n",
        "\n",
        "    #print(train_point_feature.shape)\n",
        "    #print(test_point_feature.shape)\n",
        "\n",
        "    # get distance for data point i \n",
        "    dis = spatial.distance.euclidean(train_point_feature, test_point_feature)\n",
        "    \n",
        "    # collect lable for datapoint i \n",
        "\n",
        "    y = train_labels[i]\n",
        "    \n",
        "    label_record.append((dis, y, i))\n",
        "\n",
        "  # sort data points by distance \n",
        "  from operator import itemgetter\n",
        "  sorted_labels = sorted(label_record,key=itemgetter(0))\n",
        "  # get major class from top K neighbors \n",
        "  major_class = []\n",
        "  major_index = []\n",
        "\n",
        "  #print(sorted_labels)\n",
        "  for k in range(K):\n",
        "    major_class.append(sorted_labels[k][1])\n",
        "    major_index.append(sorted_labels[k][2])\n",
        "\n",
        "    # print(major_index)\n",
        "\n",
        "  # return the prediction using majority of class\n",
        "  final_prediction = stats.mode(major_class).mode[0]\n",
        "  #print(\"Prediction: \",final_prediction)\n",
        "  return final_prediction, major_index\n"
      ],
      "metadata": {
        "id": "dPs5XGDBwDlp"
      },
      "execution_count": 67,
      "outputs": []
    },
    {
      "cell_type": "code",
      "source": [
        "len(X_train_featureVector)"
      ],
      "metadata": {
        "colab": {
          "base_uri": "https://localhost:8080/"
        },
        "id": "ZCodkBf-yDhI",
        "outputId": "c57471bf-352b-40cd-9f5a-ad4789eb6424"
      },
      "execution_count": 56,
      "outputs": [
        {
          "output_type": "execute_result",
          "data": {
            "text/plain": [
              "50000"
            ]
          },
          "metadata": {},
          "execution_count": 56
        }
      ]
    },
    {
      "cell_type": "code",
      "source": [
        "y_train"
      ],
      "metadata": {
        "colab": {
          "base_uri": "https://localhost:8080/"
        },
        "id": "lYeRwhDLzdcT",
        "outputId": "02aa11a5-6768-407c-80b2-d8003fe52c50"
      },
      "execution_count": 57,
      "outputs": [
        {
          "output_type": "execute_result",
          "data": {
            "text/plain": [
              "array([[6],\n",
              "       [9],\n",
              "       [9],\n",
              "       ...,\n",
              "       [9],\n",
              "       [1],\n",
              "       [1]], dtype=uint8)"
            ]
          },
          "metadata": {},
          "execution_count": 57
        }
      ]
    },
    {
      "cell_type": "code",
      "source": [
        "ind = np.random.choice(range(len(X_test)))\n",
        "\n",
        "label,closest_images = KNN_predict_labels(X_train_featureVector,y_train,X_test_featureVector[ind], 10)\n",
        "label[0]"
      ],
      "metadata": {
        "colab": {
          "base_uri": "https://localhost:8080/"
        },
        "id": "x-kkfmChveZo",
        "outputId": "e6f3515c-6370-4bcd-fb92-4b58e6b6e0cc"
      },
      "execution_count": 119,
      "outputs": [
        {
          "output_type": "stream",
          "name": "stdout",
          "text": [
            "[17062]\n",
            "[17062, 41866]\n",
            "[17062, 41866, 9670]\n",
            "[17062, 41866, 9670, 7253]\n",
            "[17062, 41866, 9670, 7253, 33289]\n",
            "[17062, 41866, 9670, 7253, 33289, 6602]\n",
            "[17062, 41866, 9670, 7253, 33289, 6602, 25315]\n",
            "[17062, 41866, 9670, 7253, 33289, 6602, 25315, 41330]\n",
            "[17062, 41866, 9670, 7253, 33289, 6602, 25315, 41330, 845]\n",
            "[17062, 41866, 9670, 7253, 33289, 6602, 25315, 41330, 845, 37204]\n"
          ]
        },
        {
          "output_type": "execute_result",
          "data": {
            "text/plain": [
              "3"
            ]
          },
          "metadata": {},
          "execution_count": 119
        }
      ]
    },
    {
      "cell_type": "code",
      "source": [
        "labels_map[label[0]]"
      ],
      "metadata": {
        "colab": {
          "base_uri": "https://localhost:8080/",
          "height": 35
        },
        "id": "TTnUhGL7ynyO",
        "outputId": "7de8e4e6-b4cd-4a6d-9496-3c6ada9277f0"
      },
      "execution_count": 121,
      "outputs": [
        {
          "output_type": "execute_result",
          "data": {
            "text/plain": [
              "'cat'"
            ],
            "application/vnd.google.colaboratory.intrinsic+json": {
              "type": "string"
            }
          },
          "metadata": {},
          "execution_count": 121
        }
      ]
    },
    {
      "cell_type": "code",
      "source": [
        "fig = plt.figure(figsize=(20, 5))\n",
        "\n",
        "imgplot = fig.add_subplot(1,1,1)\n",
        "label = labels_map[y_test[ind][0]]\n",
        "imgplot.imshow(X_test[ind])\n",
        "imgplot.set_title(\"Actual figure: \"+label, fontsize=20)\n"
      ],
      "metadata": {
        "colab": {
          "base_uri": "https://localhost:8080/",
          "height": 358
        },
        "id": "F84yzQye7P9z",
        "outputId": "645561bc-c0f1-4afe-a7b9-a21fc4cefe08"
      },
      "execution_count": 122,
      "outputs": [
        {
          "output_type": "execute_result",
          "data": {
            "text/plain": [
              "Text(0.5, 1.0, 'Actual figure: cat')"
            ]
          },
          "metadata": {},
          "execution_count": 122
        },
        {
          "output_type": "display_data",
          "data": {
            "text/plain": [
              "<Figure size 1440x360 with 1 Axes>"
            ],
            "image/png": "[encoded data removed]"
          },
          "metadata": {
            "needs_background": "light"
          }
        }
      ]
    },
    {
      "cell_type": "code",
      "source": [
        "fig = plt.figure(figsize=(20, 5))\n",
        "\n",
        "for ind,val in enumerate(closest_images):\n",
        "  label = labels_map[y_train[val][0]]\n",
        "  imgplot = fig.add_subplot(2,5,ind+1)  ## set up grid of 2 rows and 5 columns for visualization\n",
        "  imgplot.imshow(X_train[val]) # visualize the image\n",
        "  imgplot.set_title(label, fontsize=20) # set the title\n",
        "  imgplot.axis('off')\n"
      ],
      "metadata": {
        "colab": {
          "base_uri": "https://localhost:8080/",
          "height": 244
        },
        "id": "FAXjYp402Qsj",
        "outputId": "6d7f7deb-df99-4f9e-ae97-7f1bd616b36e"
      },
      "execution_count": 123,
      "outputs": [
        {
          "output_type": "display_data",
          "data": {
            "text/plain": [
              "<Figure size 1440x360 with 10 Axes>"
            ],
            "image/png": "[encoded data removed]"
          },
          "metadata": {
            "needs_background": "light"
          }
        }
      ]
    }
  ]
}